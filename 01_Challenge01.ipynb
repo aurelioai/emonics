{
 "cells": [
  {
   "cell_type": "markdown",
   "id": "70598b0e",
   "metadata": {},
   "source": [
    "<h2>Problem</h2>\n",
    "<p>Given a string <code>s</code> and an integer <code>k</code>, reverse the first <i>k</i> characters for every <i>2k</i> characters counting from the start of the string.<br>\n",
    "If there are fewer than <i>k</i> characters left, reverse all of them. If there are less than <i>2k</i> but greater than or equal to <code>k</code> characters, then reverse the first <i>k</i> characters and leave the rest without reversing their order as in the original string.</p>\n",
    "<p><b>Example 1:</b><br>\n",
    "Input: s = \"abcdefg\", k = 2<br>Output: \"bacdfeg\"</p>\n",
    "<p><b>Example 2:</b><br>\n",
    "Input: s = \"abcd\", k = 2<br>Output: \"bacd\"</p>\n",
    "<hr /><hr /><hr />"
   ]
  },
  {
   "cell_type": "markdown",
   "id": "e084206a",
   "metadata": {},
   "source": [
    "<h2>Solution</h2>\n",
    "<p>Given the string <code>s</code>, work it in pieces of lenght <i>k</i>. If we are in an <i>odd</i> piece of the string (first, third, fifth...) then reverse the piece. Otherwise, leave it as it is (that is, alternate the <i>reverse</i> status of the pieces). Then concatenate the pieces in the output string. This approach fulfills the conditions given in the problem.</p>\n",
    "<h2>Algorithm</h2>\n",
    "<ol>\n",
    "    <li>Initialize output (empty string), start index for string piece and reverse flag (as False).</li>\n",
    "    <li>Go over <i>k</i> characters of the input string to create an auxiliary string (piece of the string).</li>\n",
    "    <ul>\n",
    "        <li>If reverse flag is True reverse the auxiliary string and concatenate it with output string. Switch the value of the flag.</li>\n",
    "        <li>If reverse flag is False concatenate the auxiliary string with output string. Switch the value of the flag.</li>\n",
    "    </ul>\n",
    "    <li>If the last step did not reach a piece of string with <i>k</i> characters, make a last check with the remaining characters of the input string. Concatenate the last piece of string as corresponds.</li>\n",
    "    <li>Return the output string.</li>\n",
    "</ol>"
   ]
  },
  {
   "cell_type": "code",
   "execution_count": 3,
   "id": "b0fee57d",
   "metadata": {},
   "outputs": [],
   "source": [
    "def charreverse(s, k):\n",
    "    \"\"\"\n",
    "    For string 's', reverse the first k characters of a group of 2k characters.\n",
    "    type s: str\n",
    "    type k: int\n",
    "    type output: str\n",
    "    \"\"\"\n",
    "#    Uncomment to enforce input types\n",
    "#    if type(s) != type(\"a\"):\n",
    "#        return \"ERROR: Enter a string in the first argument (s)\"\n",
    "#    if type(k) != type(1):\n",
    "#        return \"ERROR: Enter an integer number in the second argument (k)\"\n",
    "\n",
    "#    Uncomment to enforce k value\n",
    "#    if k < 0:\n",
    "#        return \"ERROR: Enter an non negative value for k\"\n",
    "\n",
    "    # Quick return if k = 0\n",
    "    if k == 0:\n",
    "        return s\n",
    "\n",
    "    # Initialization\n",
    "    sLen = len(s)     # Length of input string\n",
    "    myout = \"\"        # Output (cumulative)\n",
    "    startind = 0      # Start index for new piece of string\n",
    "    reverse = False   # Flag for the reverse status\n",
    "\n",
    "    # Loop over the input indices to create string pieces\n",
    "    for i in range(sLen):\n",
    "        if i % k == 0:                # True when the end of a piece is reached\n",
    "            auxstr = s[startind:i]    # Auxiliary string for quick reverse\n",
    "            if reverse:\n",
    "                auxstr = auxstr[::-1]\n",
    "            myout += auxstr           # Concatenate to output\n",
    "            startind = i              # Start index of next piece of string\n",
    "            reverse = not reverse     # Switch reverse flag\n",
    "\n",
    "    # If last piece of string did not reach a k multiple, make a last check.\n",
    "    auxstr = s[startind:sLen]\n",
    "    if reverse:\n",
    "        auxstr = auxstr[::-1]\n",
    "    myout += auxstr\n",
    "    return myout"
   ]
  },
  {
   "cell_type": "code",
   "execution_count": 4,
   "id": "872b4e35",
   "metadata": {},
   "outputs": [
    {
     "name": "stdout",
     "output_type": "stream",
     "text": [
      "abcdefg when reversing...\n",
      "\t0 characters ---> abcdefg\n",
      "\t1 characters ---> abcdefg\n",
      "\t2 characters ---> bacdfeg\n",
      "\t4 characters ---> dcbaefg\n",
      "\t7 characters ---> gfedcba\n",
      "\t20 characters ---> gfedcba\n",
      "abcd when reversing...\n",
      "\t0 characters ---> abcd\n",
      "\t1 characters ---> abcd\n",
      "\t2 characters ---> bacd\n",
      "\t4 characters ---> dcba\n",
      "\t7 characters ---> dcba\n",
      "\t20 characters ---> dcba\n",
      "abcdefghijkl when reversing...\n",
      "\t0 characters ---> abcdefghijkl\n",
      "\t1 characters ---> abcdefghijkl\n",
      "\t2 characters ---> bacdfeghjikl\n",
      "\t4 characters ---> dcbaefghlkji\n",
      "\t7 characters ---> gfedcbahijkl\n",
      "\t20 characters ---> lkjihgfedcba\n"
     ]
    }
   ],
   "source": [
    "# Test\n",
    "strings = [\"abcdefg\", \"abcd\", \"abcdefghijkl\"]\n",
    "ks = [0, 1, 2, 4, 7, 20]\n",
    "for s in strings:\n",
    "    print(s+\" when reversing...\")\n",
    "    for k in ks:\n",
    "        print(\"\\t{} characters ---> {}\".format(k, charreverse(s, k)))"
   ]
  }
 ],
 "metadata": {
  "kernelspec": {
   "display_name": "Python 3",
   "language": "python",
   "name": "python3"
  },
  "language_info": {
   "codemirror_mode": {
    "name": "ipython",
    "version": 3
   },
   "file_extension": ".py",
   "mimetype": "text/x-python",
   "name": "python",
   "nbconvert_exporter": "python",
   "pygments_lexer": "ipython3",
   "version": "3.7.7"
  }
 },
 "nbformat": 4,
 "nbformat_minor": 5
}
