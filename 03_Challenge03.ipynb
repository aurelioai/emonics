{
 "cells": [
  {
   "cell_type": "markdown",
   "id": "70598b0e",
   "metadata": {},
   "source": [
    "<h2>Problem</h2>\n",
    "<p>Given the names and grades for each student in a class of <code>N</code> students, store them in a nested list and print the name(s) of any student(s) having the second lowest grade.\n",
    "</p>\n",
    "<p><b>Note:</b> If there are multiple students with the second lowest grade, order their names alphabetically and print each name on a new line.</p>\n",
    "<p><b>Example 1:</b><br>\n",
    "The ordered list of scores is [20.0, 50.0], so the second lowest score is [50.0]. If there are two students with that score:</p>\n",
    "<p>[\"beta\",\"alpha\"], ordered alphabetically, the names are printed as:</p>\n",
    "alpha<br>\n",
    "beta<br><br>\n",
    "<p><b>Input format</b></p>\n",
    "<p>It’s a dynamic input. The first line contains an integer, <code>N</code>, the number of students. The subsequent <code>2N</code> lines describe each student over <code>2</code> lines.</p>\n",
    "<ul>\n",
    "    <li>The first line contains a student’s name.</li>\n",
    "    <li>The second line contains their grade.</li>\n",
    "</ul>\n",
    "<p><b>Constrains</b></p>\n",
    "<ul>\n",
    "    <li><code>2 &le; N &le; 9</code></li>\n",
    "    <li>There will always be one or more students having the second lowest grade.</li>\n",
    "</ul>\n",
    "<p><b>Output format</b></p>\n",
    "<p>Print the name(s) of any student(s) having the second lowest grade in. If there are multiple students, order their names alphabetically and print each one on a new line.</p>\n",
    "<p><b>Sample Input</b></p>\n",
    "<p>9\n",
    "<br>Harry<br>37.21<br>Tom<br>37.21<br>Tina<br>37.2<br>Akriti<br>41<br>Harsh<br>39<br>Dave<br>44<br>Grace<br>37.2<br>Berry<br>37.21<br>Rose<br>42.5\n",
    "</p>\n",
    "<p><b>Sample Output</b></p>\n",
    "<p>Berry<br>Harry<br>Tom</p>\n",
    "<p><b>Explanation</b></p>\n",
    "<p>There are 9 students in this class whose names and grades are assembled to build the following list:</p>\n",
    "<p>python students = [ [’Harry’, 37.21], [’Tom’, 37.21], [’Tina’, 37.2], [’Akriti’, 41], [’Harsh’, 39], [’Dave’, 44], [’Grace’, 37.2], [’Berry’, 37.21], [’Rose’, 42.5] ]</p>\n",
    "<p>The lowest grade of belongs to Grace and Tina. The second lowest grade of belongs to Harry, Berry and Tom, so we order their names alphabetically and print each name on a new line.</p>\n",
    "<hr /><hr /><hr />"
   ]
  },
  {
   "cell_type": "markdown",
   "id": "d6a48c09",
   "metadata": {},
   "source": [
    "<h2>Solution</h2>\n",
    "<p>Read the data and store the scores as a set, thus having unique values to check. Determine from the set the second lowest score and search the students with that score. Sort their names if necessary.</p>\n",
    "<h2>Algorithm</h2>\n",
    "<ol>\n",
    "    <li>Initialize scores set (this will avoid repeated values), list that stores the input information and the result.</li>\n",
    "    <li>Read input.</li>\n",
    "    <ol>\n",
    "        <li>First value is the amount of data (directly use it in the loop definition).</li>\n",
    "        <li>Read name and score (score shall be numeric, and thus is converted to float).</li>\n",
    "        <li>Add score to scores set.</li>\n",
    "        <li>Save data to work list.</li>\n",
    "    </ol>\n",
    "    <li>Determine second lowest score (target score).</li>\n",
    "    <li>Search and store students with target score in output list.</li>\n",
    "    <li>Sort and print output list.</li>\n",
    "</ol>"
   ]
  },
  {
   "cell_type": "code",
   "execution_count": 3,
   "id": "4ef2884b",
   "metadata": {},
   "outputs": [],
   "source": [
    "def secondlowest(myinput):\n",
    "    \"\"\"\n",
    "    Get the name(s) of student(s) with the second lowest grade.\n",
    "    type myinput: list\n",
    "        Note: The structure of the input list is as follows:\n",
    "          --> First element is an integer number N that indicates\n",
    "              the amount of data.\n",
    "          --> The next 2N lines are a name (string) and a score (float)\n",
    "              for every student, each value in a single line.\n",
    "    \"\"\"\n",
    "\n",
    "    # Initialize work set and lists\n",
    "    myscores = set()\n",
    "    mylist = []\n",
    "    final = []\n",
    "\n",
    "    # Read data\n",
    "    for i in range(1, myinput[0]):\n",
    "        name = myinput[i][0]\n",
    "        score = float(myinput[i][1])\n",
    "    # Save data in work instances\n",
    "        myscores.add(score)\n",
    "        mylist.append([name, score])\n",
    "\n",
    "    # Determine second lowest score\n",
    "    targetscore = sorted(myscores)[1]\n",
    "    # Create results list\n",
    "    for name, score in mylist:\n",
    "        if score == targetscore:\n",
    "            final.append(name)\n",
    "    # Print result\n",
    "    for name in sorted(final):\n",
    "        print(name, end='\\n')\n",
    "    return None"
   ]
  },
  {
   "cell_type": "code",
   "execution_count": 4,
   "id": "5a309310",
   "metadata": {
    "scrolled": true
   },
   "outputs": [
    {
     "name": "stdout",
     "output_type": "stream",
     "text": [
      "Berry\n",
      "Harry\n",
      "Tom\n"
     ]
    }
   ],
   "source": [
    "myinput = [9, ['Harry', 37.21], ['Tom', 37.21], ['Tina', 37.2], ['Akriti', 41],\n",
    "           ['Harsh', 39], ['Dave', 44], ['Grace', 37.2], ['Berry', 37.21],\n",
    "           ['Rose', 42.5]]\n",
    "secondlowest(myinput)"
   ]
  }
 ],
 "metadata": {
  "kernelspec": {
   "display_name": "Python 3",
   "language": "python",
   "name": "python3"
  },
  "language_info": {
   "codemirror_mode": {
    "name": "ipython",
    "version": 3
   },
   "file_extension": ".py",
   "mimetype": "text/x-python",
   "name": "python",
   "nbconvert_exporter": "python",
   "pygments_lexer": "ipython3",
   "version": "3.7.7"
  }
 },
 "nbformat": 4,
 "nbformat_minor": 5
}
