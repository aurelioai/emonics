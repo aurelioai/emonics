{
 "cells": [
  {
   "cell_type": "markdown",
   "id": "70598b0e",
   "metadata": {},
   "source": [
    "<h2>Problem</h2>\n",
    "<p>Given two non-negative integers <code>num1</code> and <code>num2</code> represented as strings, return the product of <code>num1</code> and <code>num2</code>, also represented as a string.\n",
    "</p>\n",
    "<p><b>Note:</b> You must not use any built-in BigInteger library or convert the inputs to integer directly.</p>\n",
    "<p><b>Example 1:</b><br>\n",
    "Input: num1 = \"2\", num2 = \"3\"<br> Output: \"6\"</p>\n",
    "<p><b>Example 2:</b><br>\n",
    "Input: num1 = \"123\", num2 = \"456\"<br> Output: \"56088\"</p>\n",
    "<hr /><hr /><hr />"
   ]
  },
  {
   "cell_type": "markdown",
   "id": "6dc0bc5a",
   "metadata": {},
   "source": [
    "<h2>Solution</h2>\n",
    "<p>In order to handle multiplication with potentially very large numbers, a good approach is the method taught at elementary schools.</p>\n",
    "<ol>\n",
    "    <li>Line vertically the numbers <code>num1</code> and <code>num2</code>.</li>\n",
    "    <li>Multiply the first digit of <code>num2</code> (from the right) times all <code>num1</code> (from the right). Do not forget to carry on digits when results are larger than 9.\n",
    "    <li>Go for the next digit in <code>num2</code> and the previous step. However, every time you go to the next digit you move the result below one space to the left. Repeat until <code>num2</code> is spent.</li>\n",
    "    <li>Fill the empty spaces (on the right) of the partial multiplications with zeros.</li>\n",
    "    <li>Sum all the numbers to get the result.</li>\n",
    "</ol>\n",
    "<p>The animated image illustrates the procedure:</p>\n",
    "<img src=\"02_Challenge02.gif\" alt=\"Multiply like they do in elementary school\" width: 70%>\n",
    "<h2>Algorithm</h2>\n",
    "<ol>\n",
    "    <li>Calculate the length of the output (it cannot be larger than the sum of the lengths of the inputs).</li>\n",
    "    <li>Initialize the output as a list of zeros in order to calculate digits individually.</li>\n",
    "    <li>Read <code>num1</code> from right to left.</li>\n",
    "    <ol>\n",
    "        <li>Initialize carried digit (for multiplication results larger than 9).</li>\n",
    "        <li>Read <code>num2</code> from right to left.</li>\n",
    "        <ul>\n",
    "            <li>Multiply the <i>i</i>-th digit of <code>num1</code> times the <i>j</i>-th digit of <code>num2</code>. If needed, calculate and store the carried digit leaving only the units in the output element.</li>\n",
    "        </ul>\n",
    "    </ol>\n",
    "    <li>If there are leading zeros in the output, remove them.</li>\n",
    "    <li>Transform output into string.</li>\n",
    "</ol>"
   ]
  },
  {
   "cell_type": "code",
   "execution_count": 3,
   "id": "cb8096e8",
   "metadata": {},
   "outputs": [],
   "source": [
    "def stringmult(num1, num2):\n",
    "    \"\"\"\n",
    "    Multiply (large) numbers num1 and num2 (representing both\n",
    "        of them and the result as strings).\n",
    "    type num1: str\n",
    "    type num2: str\n",
    "    type output: str\n",
    "    \"\"\"\n",
    "\n",
    "# Uncomment to enforce input types\n",
    "#    # Validate data\n",
    "#    if type(num1) != type(\"a\") or type(num2) != type(\"a\"):\n",
    "#        return \"ERROR: Please enter strings in both arguments\"\n",
    "#    if (not num1.isnumeric()) or (not num2.isnumeric()):\n",
    "#        return \"ERROR: Please enter strings that represent integer numbers\"\n",
    "\n",
    "# Uncomment to quick check if input is 0\n",
    "#    # Quick return if one of the numbers is zero\n",
    "#    if \"\".join(set(num1)) == \"0\" or \"\".join(set(num2)) == \"0\":\n",
    "#        return \"0\"\n",
    "\n",
    "    # Calculate maximum length of output\n",
    "    lennum1 = len(num1)\n",
    "    lennum2 = len(num2)\n",
    "    lenout = lennum1 + lennum2  # Lenght of output\n",
    "\n",
    "    # Initialize output string\n",
    "    myout = [0 for i in range(lenout)]\n",
    "\n",
    "    # Take digits of num1 from right to left\n",
    "    for i in range(lennum1-1, -1, -1):\n",
    "        carry = 0\n",
    "    # When multiplying with the i-th digit of num1 times\n",
    "    #   the j-th digit of num2, the result will be\n",
    "    #   the (i+j+1)-th digit of the output\n",
    "    # Take digits of num2 from right to left\n",
    "        for j in range(lennum2-1, -1, -1):\n",
    "            myout[i+j+1] += carry + int(num1[i]) * int(num2[j])\n",
    "    # Calculate the carried digit and save only the units to the output element\n",
    "            carry = myout[i+j+1] // 10\n",
    "            myout[i+j+1] %= 10\n",
    "\n",
    "    # Pass carried digit from last partial multiplication\n",
    "        myout[i] = carry\n",
    "\n",
    "    # Remove leading zeros\n",
    "    i = 0\n",
    "    while i < lenout and myout[i] == 0:\n",
    "        i += 1\n",
    "    myout = myout[i:]\n",
    "\n",
    "    # Transform output (work) list to string\n",
    "    return ''.join(str(i) for i in myout)"
   ]
  },
  {
   "cell_type": "code",
   "execution_count": 4,
   "id": "7a7f6f40",
   "metadata": {},
   "outputs": [
    {
     "name": "stdout",
     "output_type": "stream",
     "text": [
      "2*3 = 6, shall be equal to  6\n",
      "2*456 = 912, shall be equal to  912\n",
      "123*3 = 369, shall be equal to  369\n",
      "123*456 = 56088, shall be equal to  56088\n"
     ]
    }
   ],
   "source": [
    "numbers1 = ['2', '123']\n",
    "numbers2 = ['3', '456']\n",
    "for num1 in numbers1:\n",
    "    for num2 in numbers2:\n",
    "        print(num1+\"*\"+num2+\" = \"+stringmult(num1, num2) +\n",
    "              \", shall be equal to \", int(num1)*int(num2))"
   ]
  },
  {
   "cell_type": "code",
   "execution_count": null,
   "id": "6633be81",
   "metadata": {},
   "outputs": [],
   "source": []
  }
 ],
 "metadata": {
  "kernelspec": {
   "display_name": "Python 3",
   "language": "python",
   "name": "python3"
  },
  "language_info": {
   "codemirror_mode": {
    "name": "ipython",
    "version": 3
   },
   "file_extension": ".py",
   "mimetype": "text/x-python",
   "name": "python",
   "nbconvert_exporter": "python",
   "pygments_lexer": "ipython3",
   "version": "3.7.7"
  }
 },
 "nbformat": 4,
 "nbformat_minor": 5
}
