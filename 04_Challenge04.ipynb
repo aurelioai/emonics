{
 "cells": [
  {
   "cell_type": "markdown",
   "id": "70598b0e",
   "metadata": {
    "hideCode": false,
    "hidePrompt": false
   },
   "source": [
    "<h2>Problem</h2>\n",
    "<p>Given the root of a binary tree, return an array of the largest value in each row of the tree (0-indexed).\n",
    "</p>\n",
    "<p><b>Example 1:</b><br>\n",
    "Input: root = [1,3,2,5,3,null,9]<br>[1,3,9]</p>\n",
    "<img src=\"04_Challenge04.png\" alt=\"Tree search\" width: 70%>\n",
    "<p><b>Example 2:</b><br>\n",
    "Input: root = [1,2,3]<br>Output: [1,3]</p>\n",
    "<hr /><hr /><hr />"
   ]
  },
  {
   "cell_type": "markdown",
   "id": "fc4a7a35",
   "metadata": {
    "hideCode": false,
    "hidePrompt": false
   },
   "source": [
    "<h2>Solution</h2>\n",
    "<p>The method of choice is <i>Breadth First Search</i>, the algorithm that goes over all nodes at a given level. It will find the largest value at each level before going to the next one. Since the input is given as a list with a certain structure (it represents a binary tree with non existing values as <code>null</code>, or <code>None</code> in our case), the number of nodes in a level of the tree is predefined.</p>\n",
    "<h2>Algorithm</h2>\n",
    "<ol>\n",
    "    <li>Determine the number of nodes of the input binary tree. In case of missing nodes (i.e. elements in the list) return an error message.</li>\n",
    "    <li>Initialize output list.</li>\n",
    "    <li>Loop over each level of the input tree.</li>\n",
    "    <ul>\n",
    "        <li>Create an auxiliary list out of the current tree level.</li>\n",
    "        <li>Remove <code>None</code> from the auxiliary list and sort it.</li>\n",
    "        <li>Append largest value of auxiliary list to output list.</li>\n",
    "    </ul>\n",
    "    <li>Return output list.</li>\n",
    "</ol>"
   ]
  },
  {
   "cell_type": "code",
   "execution_count": null,
   "id": "6ef2eb6e",
   "metadata": {
    "hideCode": false,
    "hideOutput": false,
    "hidePrompt": false
   },
   "outputs": [],
   "source": [
    "import math\n",
    "\n",
    "\n",
    "def largestvalrow(mylist):\n",
    "    \"\"\"\n",
    "    Finds the largest elements of each level of a binary tree.\n",
    "    type mylist: list of integers\n",
    "        Note: If the tree is not perfect, the missing nodes/leaves\n",
    "              must be indicated as None.\n",
    "    type output: list of integers\n",
    "    \"\"\"\n",
    "\n",
    "    # Determine number of nodes of the (input) binary tree.\n",
    "    x = len(mylist)\n",
    "    # Calculate the number of nodes of the corresponding perfect binary tree.\n",
    "    height = math.ceil(math.log2(x+1))-1\n",
    "    n = 2**(height+1)-1\n",
    "    # Validate (input) binary tree\n",
    "    if x != n:\n",
    "        return \"Missing elements in input list (has {}, needs {})\".format(x, n)\n",
    "\n",
    "    # Initialize output list\n",
    "    myout = []\n",
    "\n",
    "    # Search largest value at level n\n",
    "    for n in range(height+1):\n",
    "        auxlist = mylist[2**n-1:2**(n+1)-1]\n",
    "        # Remove null nodes\n",
    "        cleanlist = [i for i in auxlist if i != None]\n",
    "        # Append largest value to output list\n",
    "        cleanlist.sort()\n",
    "        myout.append(cleanlist[-1])\n",
    "\n",
    "    return myout"
   ]
  },
  {
   "cell_type": "code",
   "execution_count": null,
   "id": "664f75c7",
   "metadata": {},
   "outputs": [],
   "source": [
    "# Test\n",
    "mylist = [[1, 3, 2, 5, 3, None, 9],\n",
    "          [1, 2, 3],\n",
    "          [1, 2, 3, 7, 6, 5],\n",
    "          [1, 2, 3, 7, 6, 5,None],\n",
    "          [1, 9, 8, 2, 3, 4, 5]]\n",
    "for i in mylist:\n",
    "    print(largestvalrow(i))"
   ]
  },
  {
   "cell_type": "code",
   "execution_count": null,
   "id": "b58e35c8",
   "metadata": {},
   "outputs": [],
   "source": [
    "x"
   ]
  }
 ],
 "metadata": {
  "celltoolbar": "Hide code",
  "hide_code_all_hidden": false,
  "kernelspec": {
   "display_name": "Python 3",
   "language": "python",
   "name": "python3"
  },
  "language_info": {
   "codemirror_mode": {
    "name": "ipython",
    "version": 3
   },
   "file_extension": ".py",
   "mimetype": "text/x-python",
   "name": "python",
   "nbconvert_exporter": "python",
   "pygments_lexer": "ipython3",
   "version": "3.7.7"
  }
 },
 "nbformat": 4,
 "nbformat_minor": 5
}
